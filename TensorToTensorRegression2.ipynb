{
 "cells": [
  {
   "cell_type": "code",
   "execution_count": 1,
   "metadata": {},
   "outputs": [],
   "source": [
    "# Tensorly library\n",
    "import tensorly as tl\n",
    "import numpy as np\n",
    "from functools import reduce"
   ]
  },
  {
   "cell_type": "code",
   "execution_count": 103,
   "metadata": {},
   "outputs": [],
   "source": [
    "\"\"\"\n",
    "TENSOR TO TENSOR REGRESSION v1    \n",
    "  Inputs:\n",
    "    X - Input Tensor, shape (N, I_1, ..., I_{M1})\n",
    "    Y - Output Tensor, shape (N, J_1, ..., J_{M2})\n",
    "    rank - The rank of the solution weights matrix\n",
    "    lambda_reg - how much l2 regularization to use\n",
    "    return_factors - whether to include the weight matrix factors along with the weight matrix itself\n",
    "    eps - the precision of our estimate\n",
    "    \n",
    "  Outputs:\n",
    "    W - weight matrix tensor, shape (I_1, ..., I_{M1}, J_1, ..., J_{M2})\n",
    "    factors - List of CP factors which forms the CP decomposition of W. Will only be returned if return_factors==True\n",
    "\"\"\"\n",
    "def tensor_to_tensor_regression_2(X, Y, rank, lambda_reg=0.0, return_factors=False, eps=1e-6):\n",
    "    # Check that the N is consistent between X and Y tensors\n",
    "    if X.shape[0] != Y.shape[0]:\n",
    "        print(\"Wrong leading dimensions for tensors X and Y\")\n",
    "    \n",
    "    # Number of examples (leading dimension in the tensor)\n",
    "    N = X.shape[0]\n",
    "    M1 = len(X.shape[1:])\n",
    "    M2 = len(Y.shape[1:])\n",
    "    \n",
    "    # Setup the sizes of the X and Y matrices\n",
    "    I = reduce(lambda x, y: x * y, X.shape[1:])\n",
    "    J = reduce(lambda x, y: x * y, Y.shape[1:])\n",
    "    \n",
    "    # Initialize the u_r and v_r vectors which we will directly optimize\n",
    "    Us = [np.random.random((X.shape[m1 + 1], rank))-0.5 for m1 in range(M1)]\n",
    "    Vs = [np.random.random((Y.shape[m2 + 1], rank))-0.5 for m2 in range(M2)]\n",
    "    \n",
    "    # Matricize X and Y\n",
    "#     X_mat = tl.unfold(X, mode=0)\n",
    "    Y_vec = tl.tensor_to_vec(Y)\n",
    "    \n",
    "    steps = 0\n",
    "    prev_error = -1\n",
    "    #errors = [] # TODO: Remove for production (only used for testing)\n",
    "    # Keep optimizing until the error has converged\n",
    "    while steps < 5:\n",
    "        \n",
    "        # Optimizing all the Us\n",
    "        for m1 in range(M1):\n",
    "            C_r_mats = []\n",
    "            for r in range(rank):\n",
    "                # Columns we will kronecker together\n",
    "                cols_to_kron = []\n",
    "                for m1_p in range(M1):\n",
    "                    if m1_p != m1:\n",
    "                        # r-th column of U_m1\n",
    "                        cols_to_kron.append(Us[m1_p][:,r])\n",
    "                for m2_p in range(M2):\n",
    "                    cols_to_kron.append(Vs[m2_p][:,r])\n",
    "                contractor_shape = tuple(x for i, x in enumerate(X.shape[1:]) if i != m1) + Y.shape[1:]\n",
    "                contractor = tl.tenalg.kronecker(cols_to_kron).reshape(contractor_shape)\n",
    "                X_modes = [i for i in range(1, M1 + 1) if i != m1 + 1]\n",
    "                # Create the C_r tensor\n",
    "                C_r = tl.tenalg.contract(X, X_modes, contractor, range(tl.ndim(X) - 2)) \n",
    "                C_r_mats.append(tl.unfold(C_r, 1))\n",
    "            C_mat_t = tl.concatenate(C_r_mats, axis=0)\n",
    "            reg_mat = None\n",
    "            for m1_p in range(M1):\n",
    "                if m1_p != m1:\n",
    "                    to_dot = np.matmul(tl.transpose(Us[m1_p]),Us[m1_p]) \n",
    "                    if reg_mat is None:\n",
    "                        reg_mat = to_dot\n",
    "                    else:\n",
    "                        reg_mat = tl.dot(reg_mat, to_dot)\n",
    "            for m2_p in range(M2):\n",
    "                to_dot = np.matmul(tl.transpose(Us[m1_p]),Us[m1_p]) \n",
    "                if reg_mat is None:\n",
    "                    reg_mat = to_dot\n",
    "                else:\n",
    "                    reg_mat = tl.dot(reg_mat, to_dot)\n",
    "            reg_mat = lambda_reg * tl.tenalg.kronecker([reg_mat, tl.eye(X.shape[m1 + 1])])\n",
    "            U_vec = np.matmul(np.matmul(np.linalg.inv(np.matmul(C_mat_t, tl.transpose(C_mat_t)) + reg_mat), C_mat_t), Y_vec)\n",
    "            Us[m1] = tl.vec_to_tensor(U_vec, Us[m1].shape)\n",
    "                \n",
    "        # Optimizing all the Vs    \n",
    "        for m2 in range(M2):\n",
    "            Y_m2 = tl.unfold(Y, m2 + 1)\n",
    "            d_r_vecs = []\n",
    "            for r in range(rank):\n",
    "                # Columns we will kronecker together\n",
    "                cols_to_kron = []\n",
    "                for m1_p in range(M1):\n",
    "                    # r-th column of U_m1\n",
    "                    cols_to_kron.append(Us[m1_p][:,r])\n",
    "                for m2_p in range(M2):\n",
    "                    if m2 != m2_p:\n",
    "                        cols_to_kron.append(Vs[m2_p][:,r])\n",
    "                contractor_shape = X.shape[1:] + tuple(y for i, y in enumerate(Y.shape[1:]) if i != m2)\n",
    "                contractor = tl.tenalg.kronecker(cols_to_kron).reshape(contractor_shape)\n",
    "                X_modes = [i for i in range(1, M2 + 1)]\n",
    "                # Create the C_r tensor\n",
    "                d_r = tl.tensor_to_vec(tl.tenalg.contract(X, X_modes, contractor, range(tl.ndim(X) - 1)))\n",
    "                d_r_vecs.append(d_r.reshape((d_r.shape[0], 1)))\n",
    "            D_mat = tl.concatenate(d_r_vecs, axis=1)\n",
    "            # Compute the regularization component\n",
    "            reg_mat = None\n",
    "            for m1_p in range(M1):\n",
    "                to_dot = np.matmul(tl.transpose(Us[m1_p]),Us[m1_p]) \n",
    "                if reg_mat is None:\n",
    "                    reg_mat = to_dot\n",
    "                else:\n",
    "                    reg_mat = tl.dot(reg_mat, to_dot)\n",
    "            for m2_p in range(M2):\n",
    "                if m2_p != m2:\n",
    "                    to_dot = np.matmul(tl.transpose(Us[m1_p]),Us[m1_p]) \n",
    "                    if reg_mat is None:\n",
    "                        reg_mat = to_dot\n",
    "                    else:\n",
    "                        reg_mat = tl.dot(reg_mat, to_dot)\n",
    "            reg_mat *= lambda_reg\n",
    "            # Do the final update\n",
    "            Vs[m2] = np.matmul(np.matmul(Y_m2, D_mat), np.linalg.inv(np.matmul(tl.transpose(D_mat), D_mat) + reg_mat))\n",
    "        \n",
    "        # Compute error here\n",
    "        # Construct W\n",
    "        weight_shape = X.shape[1:] + Y.shape[1:]\n",
    "        W = tl.zeros(weight_shape)\n",
    "        for r in range(rank):\n",
    "            to_kron = []\n",
    "            for m1 in range(M1):\n",
    "                to_kron.append(Us[m1][:,r])\n",
    "            for m2 in range(M2):\n",
    "                to_kron.append(Vs[m2][:,r])\n",
    "            W += tl.tenalg.kronecker(to_kron).reshape(weight_shape)\n",
    "        Y_pred = tl.tenalg.contract(X, range(1, M1 + 1), W, range(M1))\n",
    "        error = np.square(Y_pred - Y).mean() \n",
    "        \n",
    "        # Determine if we have converged\n",
    "        if prev_error >= 0 and abs(prev_error - error) < eps:\n",
    "            print(\"Converged after\", steps, \"steps. Final Error:\", error)\n",
    "            return W\n",
    "        else:\n",
    "            print(\"Step:\", steps, \"Error:\", error)\n",
    "        print(error)\n",
    "        # Reset the previous error\n",
    "        prev_error = error\n",
    "        # Next step\n",
    "        steps += 1\n",
    "        \n",
    "    "
   ]
  },
  {
   "cell_type": "code",
   "execution_count": 104,
   "metadata": {},
   "outputs": [
    {
     "name": "stdout",
     "output_type": "stream",
     "text": [
      "7.277881273511988\n",
      "9.721645066975952\n",
      "9.456567153501327\n"
     ]
    },
    {
     "ename": "LinAlgError",
     "evalue": "Singular matrix",
     "output_type": "error",
     "traceback": [
      "\u001b[1;31m---------------------------------------------------------------------------\u001b[0m",
      "\u001b[1;31mLinAlgError\u001b[0m                               Traceback (most recent call last)",
      "\u001b[1;32m<ipython-input-104-2f1c6924f682>\u001b[0m in \u001b[0;36m<module>\u001b[1;34m\u001b[0m\n\u001b[0;32m      8\u001b[0m                     [-x[1, 6] + 3 * x[1, 5] ,  - x[0, 6] - x[3, 3], (x[2, 5] + 2) ** 2]])\n\u001b[0;32m      9\u001b[0m \u001b[1;31m# Now fit it\u001b[0m\u001b[1;33m\u001b[0m\u001b[1;33m\u001b[0m\u001b[1;33m\u001b[0m\u001b[0m\n\u001b[1;32m---> 10\u001b[1;33m \u001b[0mW\u001b[0m \u001b[1;33m=\u001b[0m \u001b[0mtensor_to_tensor_regression_2\u001b[0m\u001b[1;33m(\u001b[0m\u001b[0mX\u001b[0m\u001b[1;33m,\u001b[0m \u001b[0mY\u001b[0m\u001b[1;33m,\u001b[0m \u001b[1;36m5\u001b[0m\u001b[1;33m,\u001b[0m \u001b[0mlambda_reg\u001b[0m\u001b[1;33m=\u001b[0m\u001b[1;36m100\u001b[0m\u001b[1;33m)\u001b[0m\u001b[1;33m\u001b[0m\u001b[1;33m\u001b[0m\u001b[0m\n\u001b[0m\u001b[0;32m     11\u001b[0m \u001b[1;31m# We can verify our answer is correct with the following\u001b[0m\u001b[1;33m\u001b[0m\u001b[1;33m\u001b[0m\u001b[1;33m\u001b[0m\u001b[0m\n\u001b[0;32m     12\u001b[0m \u001b[0mY_pred\u001b[0m \u001b[1;33m=\u001b[0m \u001b[0mtl\u001b[0m\u001b[1;33m.\u001b[0m\u001b[0mtenalg\u001b[0m\u001b[1;33m.\u001b[0m\u001b[0mcontract\u001b[0m\u001b[1;33m(\u001b[0m\u001b[0mX\u001b[0m\u001b[1;33m,\u001b[0m \u001b[0mrange\u001b[0m\u001b[1;33m(\u001b[0m\u001b[1;36m1\u001b[0m\u001b[1;33m,\u001b[0m \u001b[0mtl\u001b[0m\u001b[1;33m.\u001b[0m\u001b[0mndim\u001b[0m\u001b[1;33m(\u001b[0m\u001b[0mX\u001b[0m\u001b[1;33m)\u001b[0m\u001b[1;33m)\u001b[0m\u001b[1;33m,\u001b[0m \u001b[0mW\u001b[0m\u001b[1;33m,\u001b[0m \u001b[0mrange\u001b[0m\u001b[1;33m(\u001b[0m\u001b[0mtl\u001b[0m\u001b[1;33m.\u001b[0m\u001b[0mndim\u001b[0m\u001b[1;33m(\u001b[0m\u001b[0mX\u001b[0m\u001b[1;33m)\u001b[0m \u001b[1;33m-\u001b[0m \u001b[1;36m1\u001b[0m\u001b[1;33m)\u001b[0m\u001b[1;33m)\u001b[0m\u001b[1;33m\u001b[0m\u001b[1;33m\u001b[0m\u001b[0m\n",
      "\u001b[1;32m<ipython-input-103-f2a7c9d62eea>\u001b[0m in \u001b[0;36mtensor_to_tensor_regression_2\u001b[1;34m(X, Y, rank, lambda_reg, return_factors, eps)\u001b[0m\n\u001b[0;32m    115\u001b[0m             \u001b[0mreg_mat\u001b[0m \u001b[1;33m*=\u001b[0m \u001b[0mlambda_reg\u001b[0m\u001b[1;33m\u001b[0m\u001b[1;33m\u001b[0m\u001b[0m\n\u001b[0;32m    116\u001b[0m             \u001b[1;31m# Do the final update\u001b[0m\u001b[1;33m\u001b[0m\u001b[1;33m\u001b[0m\u001b[1;33m\u001b[0m\u001b[0m\n\u001b[1;32m--> 117\u001b[1;33m             \u001b[0mVs\u001b[0m\u001b[1;33m[\u001b[0m\u001b[0mm2\u001b[0m\u001b[1;33m]\u001b[0m \u001b[1;33m=\u001b[0m \u001b[0mnp\u001b[0m\u001b[1;33m.\u001b[0m\u001b[0mmatmul\u001b[0m\u001b[1;33m(\u001b[0m\u001b[0mnp\u001b[0m\u001b[1;33m.\u001b[0m\u001b[0mmatmul\u001b[0m\u001b[1;33m(\u001b[0m\u001b[0mY_m2\u001b[0m\u001b[1;33m,\u001b[0m \u001b[0mD_mat\u001b[0m\u001b[1;33m)\u001b[0m\u001b[1;33m,\u001b[0m \u001b[0mnp\u001b[0m\u001b[1;33m.\u001b[0m\u001b[0mlinalg\u001b[0m\u001b[1;33m.\u001b[0m\u001b[0minv\u001b[0m\u001b[1;33m(\u001b[0m\u001b[0mnp\u001b[0m\u001b[1;33m.\u001b[0m\u001b[0mmatmul\u001b[0m\u001b[1;33m(\u001b[0m\u001b[0mtl\u001b[0m\u001b[1;33m.\u001b[0m\u001b[0mtranspose\u001b[0m\u001b[1;33m(\u001b[0m\u001b[0mD_mat\u001b[0m\u001b[1;33m)\u001b[0m\u001b[1;33m,\u001b[0m \u001b[0mD_mat\u001b[0m\u001b[1;33m)\u001b[0m \u001b[1;33m+\u001b[0m \u001b[0mreg_mat\u001b[0m\u001b[1;33m)\u001b[0m\u001b[1;33m)\u001b[0m\u001b[1;33m\u001b[0m\u001b[1;33m\u001b[0m\u001b[0m\n\u001b[0m\u001b[0;32m    118\u001b[0m \u001b[1;33m\u001b[0m\u001b[0m\n\u001b[0;32m    119\u001b[0m         \u001b[1;31m# Compute error here\u001b[0m\u001b[1;33m\u001b[0m\u001b[1;33m\u001b[0m\u001b[1;33m\u001b[0m\u001b[0m\n",
      "\u001b[1;32m<__array_function__ internals>\u001b[0m in \u001b[0;36minv\u001b[1;34m(*args, **kwargs)\u001b[0m\n",
      "\u001b[1;32m~\\Anaconda3\\lib\\site-packages\\numpy\\linalg\\linalg.py\u001b[0m in \u001b[0;36minv\u001b[1;34m(a)\u001b[0m\n\u001b[0;32m    545\u001b[0m     \u001b[0msignature\u001b[0m \u001b[1;33m=\u001b[0m \u001b[1;34m'D->D'\u001b[0m \u001b[1;32mif\u001b[0m \u001b[0misComplexType\u001b[0m\u001b[1;33m(\u001b[0m\u001b[0mt\u001b[0m\u001b[1;33m)\u001b[0m \u001b[1;32melse\u001b[0m \u001b[1;34m'd->d'\u001b[0m\u001b[1;33m\u001b[0m\u001b[1;33m\u001b[0m\u001b[0m\n\u001b[0;32m    546\u001b[0m     \u001b[0mextobj\u001b[0m \u001b[1;33m=\u001b[0m \u001b[0mget_linalg_error_extobj\u001b[0m\u001b[1;33m(\u001b[0m\u001b[0m_raise_linalgerror_singular\u001b[0m\u001b[1;33m)\u001b[0m\u001b[1;33m\u001b[0m\u001b[1;33m\u001b[0m\u001b[0m\n\u001b[1;32m--> 547\u001b[1;33m     \u001b[0mainv\u001b[0m \u001b[1;33m=\u001b[0m \u001b[0m_umath_linalg\u001b[0m\u001b[1;33m.\u001b[0m\u001b[0minv\u001b[0m\u001b[1;33m(\u001b[0m\u001b[0ma\u001b[0m\u001b[1;33m,\u001b[0m \u001b[0msignature\u001b[0m\u001b[1;33m=\u001b[0m\u001b[0msignature\u001b[0m\u001b[1;33m,\u001b[0m \u001b[0mextobj\u001b[0m\u001b[1;33m=\u001b[0m\u001b[0mextobj\u001b[0m\u001b[1;33m)\u001b[0m\u001b[1;33m\u001b[0m\u001b[1;33m\u001b[0m\u001b[0m\n\u001b[0m\u001b[0;32m    548\u001b[0m     \u001b[1;32mreturn\u001b[0m \u001b[0mwrap\u001b[0m\u001b[1;33m(\u001b[0m\u001b[0mainv\u001b[0m\u001b[1;33m.\u001b[0m\u001b[0mastype\u001b[0m\u001b[1;33m(\u001b[0m\u001b[0mresult_t\u001b[0m\u001b[1;33m,\u001b[0m \u001b[0mcopy\u001b[0m\u001b[1;33m=\u001b[0m\u001b[1;32mFalse\u001b[0m\u001b[1;33m)\u001b[0m\u001b[1;33m)\u001b[0m\u001b[1;33m\u001b[0m\u001b[1;33m\u001b[0m\u001b[0m\n\u001b[0;32m    549\u001b[0m \u001b[1;33m\u001b[0m\u001b[0m\n",
      "\u001b[1;32m~\\Anaconda3\\lib\\site-packages\\numpy\\linalg\\linalg.py\u001b[0m in \u001b[0;36m_raise_linalgerror_singular\u001b[1;34m(err, flag)\u001b[0m\n\u001b[0;32m     95\u001b[0m \u001b[1;33m\u001b[0m\u001b[0m\n\u001b[0;32m     96\u001b[0m \u001b[1;32mdef\u001b[0m \u001b[0m_raise_linalgerror_singular\u001b[0m\u001b[1;33m(\u001b[0m\u001b[0merr\u001b[0m\u001b[1;33m,\u001b[0m \u001b[0mflag\u001b[0m\u001b[1;33m)\u001b[0m\u001b[1;33m:\u001b[0m\u001b[1;33m\u001b[0m\u001b[1;33m\u001b[0m\u001b[0m\n\u001b[1;32m---> 97\u001b[1;33m     \u001b[1;32mraise\u001b[0m \u001b[0mLinAlgError\u001b[0m\u001b[1;33m(\u001b[0m\u001b[1;34m\"Singular matrix\"\u001b[0m\u001b[1;33m)\u001b[0m\u001b[1;33m\u001b[0m\u001b[1;33m\u001b[0m\u001b[0m\n\u001b[0m\u001b[0;32m     98\u001b[0m \u001b[1;33m\u001b[0m\u001b[0m\n\u001b[0;32m     99\u001b[0m \u001b[1;32mdef\u001b[0m \u001b[0m_raise_linalgerror_nonposdef\u001b[0m\u001b[1;33m(\u001b[0m\u001b[0merr\u001b[0m\u001b[1;33m,\u001b[0m \u001b[0mflag\u001b[0m\u001b[1;33m)\u001b[0m\u001b[1;33m:\u001b[0m\u001b[1;33m\u001b[0m\u001b[1;33m\u001b[0m\u001b[0m\n",
      "\u001b[1;31mLinAlgError\u001b[0m: Singular matrix"
     ]
    }
   ],
   "source": [
    "N = 11\n",
    "X = np.random.random((N, 5, 7))\n",
    "Y = np.zeros((N, 2, 3))\n",
    "# Setup Y tensor with some dummy data\n",
    "for n in range(N):\n",
    "    x = X[n]\n",
    "    Y[n] = np.array([[x[0, 0] + x[1, 1] , 2 * x[1, 0] - x[3, 2], (x[4, 5] + 1) ** 2],\n",
    "                    [-x[1, 6] + 3 * x[1, 5] ,  - x[0, 6] - x[3, 3], (x[2, 5] + 2) ** 2]])\n",
    "# Now fit it\n",
    "W = tensor_to_tensor_regression_2(X, Y, 5, lambda_reg=100)\n",
    "# We can verify our answer is correct with the following\n",
    "Y_pred = tl.tenalg.contract(X, range(1, tl.ndim(X)), W, range(tl.ndim(X) - 1))\n",
    "print(np.square(Y_pred - Y).mean()) # Should print the same as the final error"
   ]
  },
  {
   "cell_type": "code",
   "execution_count": 70,
   "metadata": {},
   "outputs": [
    {
     "name": "stdout",
     "output_type": "stream",
     "text": [
      "0.023020267486572266\n"
     ]
    }
   ],
   "source": [
    "# For timing\n",
    "import time\n",
    "\n",
    "start_time = time.time()\n",
    "W = tensor_to_tensor_regression_2(X, Y, 5, lambda_reg=10)\n",
    "print(time.time() - start_time)"
   ]
  },
  {
   "cell_type": "code",
   "execution_count": 3,
   "metadata": {},
   "outputs": [
    {
     "data": {
      "text/plain": [
       "(9, 3, 3, 2, 1)"
      ]
     },
     "execution_count": 3,
     "metadata": {},
     "output_type": "execute_result"
    }
   ],
   "source": [
    "tuple(x for i, x in enumerate((9,5,3,3,2,1)) if i != 1)"
   ]
  },
  {
   "cell_type": "code",
   "execution_count": 6,
   "metadata": {},
   "outputs": [
    {
     "name": "stdout",
     "output_type": "stream",
     "text": [
      "[0, 1, 3, 4]\n",
      "[0, 3, 4]\n"
     ]
    }
   ],
   "source": [
    "arr = [i for i in range(5) if i != 2]\n",
    "print(arr)\n",
    "arr.pop(1)\n",
    "print(arr)"
   ]
  },
  {
   "cell_type": "code",
   "execution_count": 82,
   "metadata": {},
   "outputs": [
    {
     "name": "stdout",
     "output_type": "stream",
     "text": [
      "[[3.44404736 3.44404736 3.44404736 3.44404736 3.44404736]\n",
      " [1.78752933 1.78752933 1.78752933 1.78752933 1.78752933]\n",
      " [2.52109255 2.52109255 2.52109255 2.52109255 2.52109255]\n",
      " [1.12365716 1.12365716 1.12365716 1.12365716 1.12365716]\n",
      " [2.44437316 2.44437316 2.44437316 2.44437316 2.44437316]] [[0.80903149 0.79328326 0.69959133 0.18264116 0.95950012]\n",
      " [0.26203797 0.00428095 0.17310839 0.56625577 0.78184625]\n",
      " [0.91942317 0.15854651 0.92242789 0.22079746 0.29989752]\n",
      " [0.21094672 0.06005086 0.00557695 0.17442414 0.6726585 ]\n",
      " [0.14708786 0.15139415 0.92567852 0.35986236 0.86035027]]\n"
     ]
    }
   ],
   "source": [
    "a = np.random.random((5,5))\n",
    "b = np.ones((5,5))\n",
    "c = tl.dot(a, b)\n",
    "print(c, a)"
   ]
  },
  {
   "cell_type": "code",
   "execution_count": null,
   "metadata": {},
   "outputs": [],
   "source": []
  }
 ],
 "metadata": {
  "kernelspec": {
   "display_name": "Python 3",
   "language": "python",
   "name": "python3"
  },
  "language_info": {
   "codemirror_mode": {
    "name": "ipython",
    "version": 3
   },
   "file_extension": ".py",
   "mimetype": "text/x-python",
   "name": "python",
   "nbconvert_exporter": "python",
   "pygments_lexer": "ipython3",
   "version": "3.7.3"
  }
 },
 "nbformat": 4,
 "nbformat_minor": 2
}
